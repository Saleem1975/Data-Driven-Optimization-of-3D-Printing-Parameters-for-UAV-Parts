{
 "cells": [
  {
   "cell_type": "code",
   "execution_count": null,
   "id": "1ebe8b24-2e1c-48c1-be0d-4017673529ef",
   "metadata": {},
   "outputs": [],
   "source": [
    "from platypus import NSGAII, Problem, Real, Integer, Solution\n",
    "import matplotlib.pyplot as plt\n",
    "\n",
    "# Define the problem\n",
    "def evaluate(solution):\n",
    "    IP = solution.variables[0]\n",
    "    LH = solution.variables[1]\n",
    "    NW = int(solution.variables[2])\n",
    "    BT = solution.variables[3]\n",
    "\n",
    "    # Tensile Strength\n",
    "    TS = (\n",
    "        -0.830244 + 0.356997 * IP + 104.608 * LH + 11.9154 * NW - 0.184526 * BT\n",
    "        - 0.00150299 * IP ** 2 + 20.6051 * LH ** 2 - 0.901996 * NW ** 2 + 0.00294304 * BT ** 2\n",
    "        - 0.602183 * IP * LH - 0.00695 * IP * NW + 0.000542375 * IP * BT\n",
    "        - 8.912 * LH * NW - 0.299033 * LH * BT - 0.01849 * NW * BT\n",
    "    )\n",
    "\n",
    "    # Mass\n",
    "    M = (\n",
    "        0.679909 + 0.00999339 * IP + 0.654401 * LH + 0.209838 * NW - 0.00244999 * BT\n",
    "        - 2.72106e-06 * IP ** 2 + 7.62339 * LH ** 2 - 0.00814842 * NW ** 2 + 3.59158e-05 * BT ** 2\n",
    "        - 0.0176952 * IP * LH - 8.19231e-04 * IP * NW - 9.54812e-06 * IP * BT\n",
    "        - 0.283995 * LH * NW - 0.00441283 * LH * BT - 1.41288e-04 * NW * BT\n",
    "    )\n",
    "\n",
    "    # Platypus minimizes both objectives → minimize -TS to maximize TS\n",
    "    solution.objectives[:] = [-TS, M]\n",
    "\n",
    "# Define the optimization problem\n",
    "problem = Problem(4, 2)  # 4 variables, 2 objectives\n",
    "problem.types[:] = [Real(40, 80), Real(0.1, 0.25), Integer(2, 4), Real(45, 65)]\n",
    "problem.function = evaluate\n",
    "\n",
    "# Run NSGA-II\n",
    "algorithm = NSGAII(problem)\n",
    "algorithm.run(2000)  # Number of evaluations\n",
    "\n",
    "# Extract results\n",
    "ts_vals = [-s.objectives[0] for s in algorithm.result]\n",
    "mass_vals = [s.objectives[1] for s in algorithm.result]\n",
    "\n",
    "# Plot the Pareto front\n",
    "plt.figure(figsize=(8, 6))\n",
    "plt.scatter(mass_vals, ts_vals, c='blue')\n",
    "plt.xlabel(\"Mass (g)\")\n",
    "plt.ylabel(\"Tensile Strength (MPa)\")\n",
    "plt.title(\"Pareto Front (NSGA-II using Platypus)\")\n",
    "plt.grid(True)\n",
    "plt.show()\n",
    "\n",
    "# Print top 5 solutions\n",
    "print(\"\\nTop 5 trade-off solutions:\")\n",
    "for i, s in enumerate(algorithm.result[:5]):\n",
    "    IP, LH, NW, BT = s.variables\n",
    "    print(f\"{i+1}) IP={IP:.2f}, LH={LH:.3f}, NW={int(NW)}, BT={BT:.1f} | TS={-s.objectives[0]:.2f}, Mass={s.objectives[1]:.2f}\")\n"
   ]
  },
  {
   "cell_type": "code",
   "execution_count": null,
   "id": "d07f4044-141c-4545-90d0-3d0c15e6002d",
   "metadata": {},
   "outputs": [],
   "source": []
  }
 ],
 "metadata": {
  "kernelspec": {
   "display_name": "Python 3 (ipykernel)",
   "language": "python",
   "name": "python3"
  },
  "language_info": {
   "codemirror_mode": {
    "name": "ipython",
    "version": 3
   },
   "file_extension": ".py",
   "mimetype": "text/x-python",
   "name": "python",
   "nbconvert_exporter": "python",
   "pygments_lexer": "ipython3",
   "version": "3.11.7"
  }
 },
 "nbformat": 4,
 "nbformat_minor": 5
}
